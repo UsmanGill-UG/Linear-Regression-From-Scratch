{
  "cells": [
    {
      "cell_type": "markdown",
      "metadata": {
        "id": "WPOFywdPxIgr"
      },
      "source": [
        "Importing Libraries"
      ]
    },
    {
      "cell_type": "code",
      "execution_count": null,
      "metadata": {
        "id": "1EsjtHwHtDF3"
      },
      "outputs": [],
      "source": [
        "import numpy as np  # for matrix multiplication\n",
        "import pandas as pd # for reading CSV\n",
        "import seaborn as sns # plot \n",
        "import matplotlib.pyplot as plt #importing graph\n",
        "import statistics as st # for mean and std function,to remove outlier\n",
        "from sklearn import metrics\n",
        "from scipy import stats\n",
        "from tqdm.notebook import tqdm_notebook"
      ]
    },
    {
      "cell_type": "markdown",
      "metadata": {
        "id": "WzUEadnExw26"
      },
      "source": [
        "Reading file using Pandas library"
      ]
    },
    {
      "cell_type": "code",
      "execution_count": null,
      "metadata": {
        "colab": {
          "base_uri": "https://localhost:8080/"
        },
        "id": "ytr1UUhIuJ1M",
        "outputId": "50a9d67b-9e14-4c0a-8c89-344edf9c7405"
      },
      "outputs": [
        {
          "output_type": "stream",
          "name": "stdout",
          "text": [
            "       Area   Price\n",
            "0      8450  208500\n",
            "1      9600  181500\n",
            "2     11250  223500\n",
            "3      9550  140000\n",
            "4     14260  250000\n",
            "...     ...     ...\n",
            "1455   7917  175000\n",
            "1456  13175  210000\n",
            "1457   9042  266500\n",
            "1458   9717  142125\n",
            "1459   9937  147500\n",
            "\n",
            "[1460 rows x 2 columns]\n"
          ]
        }
      ],
      "source": [
        "col_names = ['Area', 'Price']\n",
        "# reading CSV using pandas\n",
        "# header is the number of rows you want to skip from the top when reading the data\n",
        "df = pd.read_csv(\"task01.csv\",header = 0, names=col_names) \n",
        "# df=np.array(df)  ese bhi convert kar sakte\n",
        "# df=df[(np.abs(stats.zscore(df)) < 3).all(axis=1)]\n",
        "print(df)               "
      ]
    },
    {
      "cell_type": "markdown",
      "source": [
        "Complete Data Report using Profile Report"
      ],
      "metadata": {
        "id": "CoC--bJvtYUB"
      }
    },
    {
      "cell_type": "code",
      "execution_count": null,
      "metadata": {
        "id": "hKLPhn54k8g8"
      },
      "outputs": [],
      "source": [
        "# from pandas_profiling import ProfileReport\n",
        "# profile=ProfileReport(df)\n",
        "# profile.to_file(\"report.html\")"
      ]
    },
    {
      "cell_type": "code",
      "execution_count": null,
      "metadata": {
        "id": "VDvCK7uAv9UV",
        "colab": {
          "base_uri": "https://localhost:8080/"
        },
        "outputId": "c773ff1e-a156-4cf0-a260-fc5d1cbdcc7f"
      },
      "outputs": [
        {
          "output_type": "stream",
          "name": "stdout",
          "text": [
            "0        8450\n",
            "1        9600\n",
            "2       11250\n",
            "3        9550\n",
            "4       14260\n",
            "        ...  \n",
            "1455     7917\n",
            "1456    13175\n",
            "1457     9042\n",
            "1458     9717\n",
            "1459     9937\n",
            "Name: Area, Length: 1460, dtype: int64\n"
          ]
        }
      ],
      "source": [
        "X = df.Area \n",
        "print(X)"
      ]
    },
    {
      "cell_type": "code",
      "execution_count": null,
      "metadata": {
        "id": "r7jA_0-j7Wrq",
        "colab": {
          "base_uri": "https://localhost:8080/"
        },
        "outputId": "1b2ff6f2-48a7-463b-8de7-a304127a4d17"
      },
      "outputs": [
        {
          "output_type": "stream",
          "name": "stdout",
          "text": [
            "0       208500\n",
            "1       181500\n",
            "2       223500\n",
            "3       140000\n",
            "4       250000\n",
            "         ...  \n",
            "1455    175000\n",
            "1456    210000\n",
            "1457    266500\n",
            "1458    142125\n",
            "1459    147500\n",
            "Name: Price, Length: 1460, dtype: int64\n"
          ]
        }
      ],
      "source": [
        "Y = df.Price \n",
        "print(Y)"
      ]
    },
    {
      "cell_type": "code",
      "execution_count": null,
      "metadata": {
        "id": "xZXa-uJCE08g"
      },
      "outputs": [],
      "source": [
        "X = X.to_numpy()\n",
        "Y = Y.to_numpy()"
      ]
    },
    {
      "cell_type": "code",
      "execution_count": null,
      "metadata": {
        "colab": {
          "base_uri": "https://localhost:8080/"
        },
        "id": "Z2lmjb9-iIP5",
        "outputId": "7a1a2505-db9d-4a55-82fb-ae45b3c43f68"
      },
      "outputs": [
        {
          "output_type": "execute_result",
          "data": {
            "text/plain": [
              "(1460,)"
            ]
          },
          "metadata": {},
          "execution_count": 7
        }
      ],
      "source": [
        "X.shape"
      ]
    },
    {
      "cell_type": "code",
      "execution_count": null,
      "metadata": {
        "colab": {
          "base_uri": "https://localhost:8080/"
        },
        "id": "6H77i0PDwey-",
        "outputId": "a0fad4bc-456e-4c6b-aa3a-7510c188f87f"
      },
      "outputs": [
        {
          "output_type": "execute_result",
          "data": {
            "text/plain": [
              "(1460, 1)"
            ]
          },
          "metadata": {},
          "execution_count": 8
        }
      ],
      "source": [
        "X = X.reshape(-1,1) # \n",
        "X.shape"
      ]
    },
    {
      "cell_type": "code",
      "execution_count": null,
      "metadata": {
        "colab": {
          "base_uri": "https://localhost:8080/"
        },
        "id": "q5YbCiAQnltl",
        "outputId": "74c141c3-14a1-4911-d4d1-2871f219c770"
      },
      "outputs": [
        {
          "output_type": "execute_result",
          "data": {
            "text/plain": [
              "(1460, 1)"
            ]
          },
          "metadata": {},
          "execution_count": 9
        }
      ],
      "source": [
        "Y = Y.reshape(-1,1)\n",
        "Y.shape"
      ]
    },
    {
      "cell_type": "markdown",
      "metadata": {
        "id": "3aosh7xvkOqx"
      },
      "source": [
        "Splitting Data without Sklearn Library.\n",
        "Using Numpy to split data into train, test and validation set"
      ]
    },
    {
      "cell_type": "code",
      "source": [
        "def split(A):\n",
        "  A_start_train = 0\n",
        "  A_end_train = int(len(A)*0.70)\n",
        "\n",
        "  A_start_test = A_end_train\n",
        "  A_end_test = A_end_train + int(len(A)*0.15)\n",
        "\n",
        "  A_start_val = A_end_test\n",
        "  A_end_val = A_end_test +int(len(A)*0.15)\n",
        "\n",
        "  A_train = A[A_start_train:A_end_train,:]\n",
        "  A_test = A[A_start_test:A_end_test,:]\n",
        "  A_val = A[A_start_val:A_end_val,:]\n",
        "  return A_train , A_test, A_val"
      ],
      "metadata": {
        "id": "HDooUEwCWV7O"
      },
      "execution_count": null,
      "outputs": []
    },
    {
      "cell_type": "code",
      "source": [
        "x_train, x_test,val_set_x = split(X)\n",
        "y_train, y_test,val_set_y = split(Y)"
      ],
      "metadata": {
        "id": "iDW7qwrL0XZS"
      },
      "execution_count": null,
      "outputs": []
    },
    {
      "cell_type": "code",
      "execution_count": null,
      "metadata": {
        "id": "GDQL-wqVu9jZ"
      },
      "outputs": [],
      "source": [
        "def loss_func(y_true, y_pred):                          \n",
        "  return np.square(np.subtract(y_true, y_pred)).mean()  # 1/2m is mean basically so we can use mean function  "
      ]
    },
    {
      "cell_type": "markdown",
      "source": [
        "# Gradient Descent\n",
        "1- tqdm_notebook shows progress of for loop iterations"
      ],
      "metadata": {
        "id": "51CBdWC_t2q0"
      }
    },
    {
      "cell_type": "code",
      "execution_count": null,
      "metadata": {
        "id": "VypAZiz2j5Nd"
      },
      "outputs": [],
      "source": [
        "def grad_descent(epochs):\n",
        "  lr = 0.0000000001  # data mein variation kam ho tu learning rate zada karna chahiya\n",
        "  m = np.random.rand()\n",
        "  c = np.random.rand()\n",
        "  cost_hist = []\n",
        "  cost_hist_val = []\n",
        "  n = len(x_train)\n",
        "  # m weights and c bias \n",
        "  # m features sai mult \n",
        "  # c add hota tu bias hai\n",
        "  for epoch in tqdm_notebook(range(epochs)):\n",
        "    y_pred = x_train.dot(m) + c                       # getting predicted target value from current m ,c value\n",
        "    D_c = (1/n) * np.sum(y_pred - y_train)     #  derivative of loss function with respect of m \n",
        "    D_m = (1/n) * np.sum((y_pred - y_train)*x_train) #  derivative of loss function with respect of m\n",
        "    m = m - lr*D_m  # updating m (slope)\n",
        "    c = c - lr*D_c  # updating c (y-intercept)\n",
        "    cost_train = loss_func(y_train, y_pred)\n",
        "    cost_hist.append(cost_train)\n",
        "    y_pred_val = val_set_x.dot(m) + c                       \n",
        "    cost_val = loss_func(val_set_y,y_pred_val)\n",
        "    cost_hist_val.append(cost_val)\n",
        "  return m,c,cost_hist, cost_hist_val\n",
        "  # derivative of loss wrt to weights matlab ye mere change in weights ki waja sai loss mein kitna farq aya hai\n"
      ]
    },
    {
      "cell_type": "code",
      "execution_count": null,
      "metadata": {
        "colab": {
          "base_uri": "https://localhost:8080/",
          "height": 66,
          "referenced_widgets": [
            "2a88af24639a4242be5b86dfd80c6988",
            "7bcae0ad4ccc47e0a3b09bfd76c10a88",
            "1bd2ada54c36407eb3e4e6dcf9916195",
            "eeae7ceb390f425e972e8c3bd0f19a64",
            "48c5cfab79a543269b9d05daffe42639",
            "419fa8c3f4a949f3b9e327648c0962f1",
            "f8156fce51ec4e00b1750cecefe0df7f",
            "19f5a2d28d6e47caaf8776eee85a0741",
            "c0682ec4678d4dedaa304f4db611cfb5",
            "f1b0b6d897814b15a7f4f072de18ac4a",
            "8df1c12b64b84109b55ed296da13c672"
          ]
        },
        "id": "EQD01A05w03Z",
        "outputId": "53b73154-e388-4d15-c6d9-6bea194131c2"
      },
      "outputs": [
        {
          "output_type": "display_data",
          "data": {
            "text/plain": [
              "  0%|          | 0/500 [00:00<?, ?it/s]"
            ],
            "application/vnd.jupyter.widget-view+json": {
              "version_major": 2,
              "version_minor": 0,
              "model_id": "2a88af24639a4242be5b86dfd80c6988"
            }
          },
          "metadata": {}
        },
        {
          "output_type": "stream",
          "name": "stdout",
          "text": [
            "9.012325327528268 0.012175182958599012\n"
          ]
        }
      ],
      "source": [
        "epochs= 500\n",
        "m,c, cost_hist_train ,cost_hist_val = grad_descent(epochs)\n",
        "print(m,c)"
      ]
    },
    {
      "cell_type": "code",
      "execution_count": null,
      "metadata": {
        "colab": {
          "base_uri": "https://localhost:8080/",
          "height": 295
        },
        "id": "dPZrMAocM6av",
        "outputId": "45942a6d-53aa-4e0c-f513-5f95d2dcd85f"
      },
      "outputs": [
        {
          "output_type": "display_data",
          "data": {
            "text/plain": [
              "<Figure size 432x288 with 1 Axes>"
            ],
            "image/png": "[encoded data removed]"
          },
          "metadata": {
            "needs_background": "light"
          }
        }
      ],
      "source": [
        "# Plot the epoch vs training and validation loss using matplotlib.\n",
        "plt.plot(list(range(epochs)),cost_hist_val, label = \"Validation Loss\", color=\"r\" )\n",
        "plt.plot(list(range(epochs)),cost_hist_train, label = \"Train Loss\",  color=\"g\" )\n",
        "plt.title(\"Epochs vs Validation Loss / Train Loss\")\n",
        "plt.xlabel(\"Epochs\")\n",
        "plt.ylabel(\"Validation Loss / Train Loss\")\n",
        "plt.legend()\n",
        "plt.show()\n",
        "# graph mein nazar arha hai validation loss boht kam hai training loss sai. Isila hume pata chal raha hai abhi tak humara model \n",
        "# overfit nahi hua aur bilkul sahi chal raha hai"
      ]
    },
    {
      "cell_type": "code",
      "execution_count": null,
      "metadata": {
        "colab": {
          "base_uri": "https://localhost:8080/",
          "height": 312
        },
        "id": "aNCP9_50UDJF",
        "outputId": "f8e60f58-843d-4ff6-fa6a-94b749f654da"
      },
      "outputs": [
        {
          "output_type": "stream",
          "name": "stdout",
          "text": [
            "Test Loss is 13594716783.098234\n"
          ]
        },
        {
          "output_type": "display_data",
          "data": {
            "text/plain": [
              "<Figure size 432x288 with 1 Axes>"
            ],
            "image/png": "[encoded data removed]"
          },
          "metadata": {
            "needs_background": "light"
          }
        }
      ],
      "source": [
        "# Plot the training data with linear regression fit and find test loss.\n",
        "y_pred_test = m*x_test +c\n",
        "cost_test = loss_func(y_test,y_pred_test)\n",
        "print(f\"Test Loss is {cost_test}\")\n",
        "y_pred = m*x_train +c\n",
        "plt.scatter(x_train,y_train)\n",
        "plt.title(\"price vs size\")\n",
        "plt.plot([min(x_train),max(x_train)],[min(y_pred),max(y_pred)], color = \"r\")\n",
        "plt.xlabel(\"Area\")\n",
        "plt.ylabel(\"price\")\n",
        "plt.show()"
      ]
    },
    {
      "cell_type": "code",
      "execution_count": null,
      "metadata": {
        "colab": {
          "base_uri": "https://localhost:8080/"
        },
        "id": "JzqYujtMWfQm",
        "outputId": "6c8bc2b1-e679-4b19-ee64-1a3339a3f234"
      },
      "outputs": [
        {
          "output_type": "execute_result",
          "data": {
            "text/plain": [
              "(1460, 5)"
            ]
          },
          "metadata": {},
          "execution_count": 17
        }
      ],
      "source": [
        "col_names = ['Area', 'Bedroom','Kitchen', 'YearBuilt','Price']\n",
        "df2 = pd.read_csv(\"task02.csv\",header = 0, names=col_names)\n",
        "# df2=df2[(np.abs(stats.zscore(df2)) < 3).all(axis=1)] \n",
        "df2.shape"
      ]
    },
    {
      "cell_type": "markdown",
      "source": [
        "Feature Normalization is done by substracting data from its mean and dividing by standard deviation"
      ],
      "metadata": {
        "id": "yY0UjjUl3Swg"
      }
    },
    {
      "cell_type": "code",
      "source": [
        "def feature_normalization(A):\n",
        "  return (np.subtract(A,A.mean())/ np.std(A)) "
      ],
      "metadata": {
        "id": "JlaJEf2V2dBI"
      },
      "execution_count": null,
      "outputs": []
    },
    {
      "cell_type": "code",
      "execution_count": null,
      "metadata": {
        "id": "umr9sfTI_4mC"
      },
      "outputs": [],
      "source": [
        "def get_normalized_features(X1, X2, X3, X4,Y):\n",
        "  x1_norm = feature_normalization(X1) \n",
        "  x2_norm = feature_normalization(X2) \n",
        "  x3_norm = feature_normalization(X3) \n",
        "  x4_norm = feature_normalization(X4)\n",
        "  y_norm  = feature_normalization(Y)\n",
        "  return x1_norm, x2_norm , x3_norm,x4_norm, y_norm "
      ]
    },
    {
      "cell_type": "code",
      "execution_count": null,
      "metadata": {
        "id": "S00dRL68arKl"
      },
      "outputs": [],
      "source": [
        "X1= df2.Area      # Getting all Area rows in X1\n",
        "X2= df2.Bedroom   # Getting all Bedroom rows in X2\n",
        "X3= df2.Kitchen   # Getting all Kitchen rows in X3\n",
        "X4= df2.YearBuilt # Getting all Year Built rows in X4\n",
        "Y = df2.Price     # Getting all Price rows in Y\n",
        "X1= X1.to_numpy()     \n",
        "X2= X2.to_numpy()   \n",
        "X3= X3.to_numpy() \n",
        "X4= X4.to_numpy() \n",
        "Y = Y.to_numpy()  \n",
        "X1,X2, X3,X4, Y = get_normalized_features(X1, X2, X3,X4, Y)"
      ]
    },
    {
      "cell_type": "code",
      "execution_count": null,
      "metadata": {
        "id": "gRhWrfl0jc8q"
      },
      "outputs": [],
      "source": [
        "X1 = X1.reshape(-1,1)  \n",
        "X2 = X2.reshape(-1,1)  \n",
        "X3 = X3.reshape(-1,1)  \n",
        "X4 = X4.reshape(-1,1)  \n",
        "Y = Y.reshape(-1,1)    "
      ]
    },
    {
      "cell_type": "code",
      "execution_count": null,
      "metadata": {
        "colab": {
          "base_uri": "https://localhost:8080/"
        },
        "id": "LDVy_Pa_p4Yn",
        "outputId": "3b7b9a0c-c3f0-4d2f-ba21-13bfe4ebf9de"
      },
      "outputs": [
        {
          "output_type": "execute_result",
          "data": {
            "text/plain": [
              "(1460, 1)"
            ]
          },
          "metadata": {},
          "execution_count": 21
        }
      ],
      "source": [
        "X1.shape"
      ]
    },
    {
      "cell_type": "code",
      "execution_count": null,
      "metadata": {
        "id": "CSle-LBbeiNK"
      },
      "outputs": [],
      "source": [
        "def get_data_sets():\n",
        "  x1_train, x1_test, val_set_x1 = split(X1)\n",
        "  x2_train, x2_test, val_set_x2 = split(X2)\n",
        "  x3_train, x3_test, val_set_x3 = split(X3)\n",
        "  x4_train, x4_test, val_set_x4 = split(X4)\n",
        "  y_train, y_test, val_set_y = split(Y)\n",
        "  return x1_train, x1_test, val_set_x1, x2_train, x2_test, val_set_x2,x3_train, x3_test, val_set_x3,x4_train, x4_test, val_set_x4, y_train, y_test,val_set_y"
      ]
    },
    {
      "cell_type": "code",
      "execution_count": null,
      "metadata": {
        "id": "us8AVMTFiSyD"
      },
      "outputs": [],
      "source": [
        "x1_train, x1_test, val_set_x1, x2_train, x2_test, val_set_x2,x3_train, x3_test, val_set_x3,x4_train, x4_test, val_set_x4, y_train, y_test,val_set_y = get_data_sets()"
      ]
    },
    {
      "cell_type": "code",
      "execution_count": null,
      "metadata": {
        "id": "8dpFArcHi537"
      },
      "outputs": [],
      "source": [
        "def multi_grad_descent(epochs):\n",
        "  lr = 0.001  # data mein variation kam ho tu learning rate zada karna chahiya\n",
        "  m1 = np.random.rand()   #0.00000000001\n",
        "  m2 = np.random.rand()   #0.001\n",
        "  m3 = np.random.rand()\n",
        "  m4 = np.random.rand()\n",
        "  c = np.random.rand()\n",
        "  cost_hist = []\n",
        "  cost_hist_val = []\n",
        "  n1 = len(x1_train)\n",
        "  n2 = len(x2_train)\n",
        "  n3 = len(x3_train)\n",
        "  n4 = len(x4_train)\n",
        "  for epoch in tqdm_notebook(range(epochs)):\n",
        "    y_pred = c + m1*x1_train + m2*x2_train + m3*x3_train + m4*x4_train   # getting predicted target value from current m ,c value\n",
        "    # derivative of loss function with respect of am \n",
        "    D_c = (1/n1) * np.sum(y_pred - y_train)     \n",
        "    #Derivatinves of Features\n",
        "    D_m1 = (1/n1) * np.sum((y_pred - y_train)*x1_train) #  derivative of loss function with respect of m\n",
        "    D_m2 = (1/n2) * np.sum((y_pred - y_train)*x2_train) #  derivative of loss function with respect of m\n",
        "    D_m3 = (1/n3) * np.sum((y_pred - y_train)*x3_train) #  derivative of loss function with respect of m\n",
        "    D_m4 = (1/n4) * np.sum((y_pred - y_train)*x4_train) #  derivative of loss function with respect of m\n",
        "    m1 = m1 - lr*D_m1  # updating m1 (slope)\n",
        "    m2 = m2 - lr*D_m2  # updating m2 (slope)\n",
        "    m3 = m3 - lr*D_m3  # updating m3 (slope)\n",
        "    m4 = m4 - lr*D_m4  # updating m4 (slope)\n",
        "    c = c - lr*D_c     # updating c (y-intercept)\n",
        "    cost_train = loss_func(y_train, y_pred)\n",
        "    cost_hist.append(cost_train)\n",
        "    y_pred_val = c + m1*val_set_x1 + m2*val_set_x2 + m3*val_set_x2 + m4*val_set_x4                       \n",
        "    cost_val = loss_func(val_set_y,y_pred_val)\n",
        "    cost_hist_val.append(cost_val)\n",
        "  return m1, m2,m3,m4,c,cost_hist, cost_hist_val\n",
        "  # derivative of loss wrt to weights matlab ye mere change in weights ki waja sai loss mein kitna farq aya hai\n"
      ]
    },
    {
      "cell_type": "code",
      "execution_count": null,
      "metadata": {
        "colab": {
          "base_uri": "https://localhost:8080/",
          "height": 66,
          "referenced_widgets": [
            "da6f1bb68b01407b86bffb1f74eea6dc",
            "04e48ef1c4ff48fc95fde24023769388",
            "772dc783127b42f480ab97ef97eb56c2",
            "f81234a072d44cde9780c13d2da49287",
            "a4dce1789dcd420694102941495d9e0f",
            "c054a93dbf144a069b6c05cc024cb0cf",
            "de128cbea1b34fbcb576d56e4569eb97",
            "edb83e34fd754d2cb92e9119f2a3e571",
            "1e8bcb3a17414386825e3d26c6446db0",
            "dc1e559b04e7401199a0a18ef0e6694b",
            "167369cdc4e64e099ab10bb7a1f2ce42"
          ]
        },
        "id": "LW9i3murnNoT",
        "outputId": "43f6c1ca-b7cf-421b-9527-e20ce4dcc1d0"
      },
      "outputs": [
        {
          "output_type": "display_data",
          "data": {
            "text/plain": [
              "  0%|          | 0/1500 [00:00<?, ?it/s]"
            ],
            "application/vnd.jupyter.widget-view+json": {
              "version_major": 2,
              "version_minor": 0,
              "model_id": "da6f1bb68b01407b86bffb1f74eea6dc"
            }
          },
          "metadata": {}
        },
        {
          "output_type": "stream",
          "name": "stdout",
          "text": [
            "0.1694523584566156 0.3295641280885772 0.03828048726772899 0.624941606729964 0.06274005884809203\n"
          ]
        }
      ],
      "source": [
        "epochs = 1500  # 1500 without norm\n",
        "m1,m2,m3,m4,c, cost_hist_train ,cost_hist_val = multi_grad_descent(epochs)\n",
        "print(m1, m2, m3 , m4,c)"
      ]
    },
    {
      "cell_type": "code",
      "execution_count": null,
      "metadata": {
        "colab": {
          "base_uri": "https://localhost:8080/",
          "height": 295
        },
        "id": "Xfy4_8iooOCZ",
        "outputId": "7bfa6f42-b15c-4a4e-e93a-0a0e579948fc"
      },
      "outputs": [
        {
          "output_type": "display_data",
          "data": {
            "text/plain": [
              "<Figure size 432x288 with 1 Axes>"
            ],
            "image/png": "[encoded data removed]"
          },
          "metadata": {
            "needs_background": "light"
          }
        }
      ],
      "source": [
        "# Plot the epoch vs training and validation loss using matplotlib.\n",
        "plt.plot(list(range(epochs)),cost_hist_val, label = \"Validation Loss\", color=\"r\" )\n",
        "plt.plot(list(range(epochs)),cost_hist_train, label = \"Train Loss\",  color=\"g\" )\n",
        "plt.title(\"Epochs vs Validation Loss / Train Loss\")\n",
        "plt.xlabel(\"Epochs\")\n",
        "plt.ylabel(\"Validation Loss / Train Loss\")\n",
        "plt.legend()\n",
        "plt.show()\n",
        "# graph mein nazar arha hai validation loss boht kam hai training loss sai. Isila hume pata chal raha hai abhi tak humara model \n",
        "# overfit nahi hua aur bilkul sahi chal raha hai"
      ]
    }
  ],
  "metadata": {
    "colab": {
      "collapsed_sections": [],
      "machine_shape": "hm",
      "name": "Usman_BSCS19010.ipynb",
      "provenance": []
    },
    "kernelspec": {
      "display_name": "Python 3",
      "name": "python3"
    },
    "language_info": {
      "name": "python"
    },
    "widgets": {
      "application/vnd.jupyter.widget-state+json": {
        "2a88af24639a4242be5b86dfd80c6988": {
          "model_module": "@jupyter-widgets/controls",
          "model_name": "HBoxModel",
          "model_module_version": "1.5.0",
          "state": {
            "_dom_classes": [],
            "_model_module": "@jupyter-widgets/controls",
            "_model_module_version": "1.5.0",
            "_model_name": "HBoxModel",
            "_view_count": null,
            "_view_module": "@jupyter-widgets/controls",
            "_view_module_version": "1.5.0",
            "_view_name": "HBoxView",
            "box_style": "",
            "children": [
              "IPY_MODEL_7bcae0ad4ccc47e0a3b09bfd76c10a88",
              "IPY_MODEL_1bd2ada54c36407eb3e4e6dcf9916195",
              "IPY_MODEL_eeae7ceb390f425e972e8c3bd0f19a64"
            ],
            "layout": "IPY_MODEL_48c5cfab79a543269b9d05daffe42639"
          }
        },
        "7bcae0ad4ccc47e0a3b09bfd76c10a88": {
          "model_module": "@jupyter-widgets/controls",
          "model_name": "HTMLModel",
          "model_module_version": "1.5.0",
          "state": {
            "_dom_classes": [],
            "_model_module": "@jupyter-widgets/controls",
            "_model_module_version": "1.5.0",
            "_model_name": "HTMLModel",
            "_view_count": null,
            "_view_module": "@jupyter-widgets/controls",
            "_view_module_version": "1.5.0",
            "_view_name": "HTMLView",
            "description": "",
            "description_tooltip": null,
            "layout": "IPY_MODEL_419fa8c3f4a949f3b9e327648c0962f1",
            "placeholder": "​",
            "style": "IPY_MODEL_f8156fce51ec4e00b1750cecefe0df7f",
            "value": "100%"
          }
        },
        "1bd2ada54c36407eb3e4e6dcf9916195": {
          "model_module": "@jupyter-widgets/controls",
          "model_name": "FloatProgressModel",
          "model_module_version": "1.5.0",
          "state": {
            "_dom_classes": [],
            "_model_module": "@jupyter-widgets/controls",
            "_model_module_version": "1.5.0",
            "_model_name": "FloatProgressModel",
            "_view_count": null,
            "_view_module": "@jupyter-widgets/controls",
            "_view_module_version": "1.5.0",
            "_view_name": "ProgressView",
            "bar_style": "success",
            "description": "",
            "description_tooltip": null,
            "layout": "IPY_MODEL_19f5a2d28d6e47caaf8776eee85a0741",
            "max": 500,
            "min": 0,
            "orientation": "horizontal",
            "style": "IPY_MODEL_c0682ec4678d4dedaa304f4db611cfb5",
            "value": 500
          }
        },
        "eeae7ceb390f425e972e8c3bd0f19a64": {
          "model_module": "@jupyter-widgets/controls",
          "model_name": "HTMLModel",
          "model_module_version": "1.5.0",
          "state": {
            "_dom_classes": [],
            "_model_module": "@jupyter-widgets/controls",
            "_model_module_version": "1.5.0",
            "_model_name": "HTMLModel",
            "_view_count": null,
            "_view_module": "@jupyter-widgets/controls",
            "_view_module_version": "1.5.0",
            "_view_name": "HTMLView",
            "description": "",
            "description_tooltip": null,
            "layout": "IPY_MODEL_f1b0b6d897814b15a7f4f072de18ac4a",
            "placeholder": "​",
            "style": "IPY_MODEL_8df1c12b64b84109b55ed296da13c672",
            "value": " 500/500 [00:00&lt;00:00, 5891.60it/s]"
          }
        },
        "48c5cfab79a543269b9d05daffe42639": {
          "model_module": "@jupyter-widgets/base",
          "model_name": "LayoutModel",
          "model_module_version": "1.2.0",
          "state": {
            "_model_module": "@jupyter-widgets/base",
            "_model_module_version": "1.2.0",
            "_model_name": "LayoutModel",
            "_view_count": null,
            "_view_module": "@jupyter-widgets/base",
            "_view_module_version": "1.2.0",
            "_view_name": "LayoutView",
            "align_content": null,
            "align_items": null,
            "align_self": null,
            "border": null,
            "bottom": null,
            "display": null,
            "flex": null,
            "flex_flow": null,
            "grid_area": null,
            "grid_auto_columns": null,
            "grid_auto_flow": null,
            "grid_auto_rows": null,
            "grid_column": null,
            "grid_gap": null,
            "grid_row": null,
            "grid_template_areas": null,
            "grid_template_columns": null,
            "grid_template_rows": null,
            "height": null,
            "justify_content": null,
            "justify_items": null,
            "left": null,
            "margin": null,
            "max_height": null,
            "max_width": null,
            "min_height": null,
            "min_width": null,
            "object_fit": null,
            "object_position": null,
            "order": null,
            "overflow": null,
            "overflow_x": null,
            "overflow_y": null,
            "padding": null,
            "right": null,
            "top": null,
            "visibility": null,
            "width": null
          }
        },
        "419fa8c3f4a949f3b9e327648c0962f1": {
          "model_module": "@jupyter-widgets/base",
          "model_name": "LayoutModel",
          "model_module_version": "1.2.0",
          "state": {
            "_model_module": "@jupyter-widgets/base",
            "_model_module_version": "1.2.0",
            "_model_name": "LayoutModel",
            "_view_count": null,
            "_view_module": "@jupyter-widgets/base",
            "_view_module_version": "1.2.0",
            "_view_name": "LayoutView",
            "align_content": null,
            "align_items": null,
            "align_self": null,
            "border": null,
            "bottom": null,
            "display": null,
            "flex": null,
            "flex_flow": null,
            "grid_area": null,
            "grid_auto_columns": null,
            "grid_auto_flow": null,
            "grid_auto_rows": null,
            "grid_column": null,
            "grid_gap": null,
            "grid_row": null,
            "grid_template_areas": null,
            "grid_template_columns": null,
            "grid_template_rows": null,
            "height": null,
            "justify_content": null,
            "justify_items": null,
            "left": null,
            "margin": null,
            "max_height": null,
            "max_width": null,
            "min_height": null,
            "min_width": null,
            "object_fit": null,
            "object_position": null,
            "order": null,
            "overflow": null,
            "overflow_x": null,
            "overflow_y": null,
            "padding": null,
            "right": null,
            "top": null,
            "visibility": null,
            "width": null
          }
        },
        "f8156fce51ec4e00b1750cecefe0df7f": {
          "model_module": "@jupyter-widgets/controls",
          "model_name": "DescriptionStyleModel",
          "model_module_version": "1.5.0",
          "state": {
            "_model_module": "@jupyter-widgets/controls",
            "_model_module_version": "1.5.0",
            "_model_name": "DescriptionStyleModel",
            "_view_count": null,
            "_view_module": "@jupyter-widgets/base",
            "_view_module_version": "1.2.0",
            "_view_name": "StyleView",
            "description_width": ""
          }
        },
        "19f5a2d28d6e47caaf8776eee85a0741": {
          "model_module": "@jupyter-widgets/base",
          "model_name": "LayoutModel",
          "model_module_version": "1.2.0",
          "state": {
            "_model_module": "@jupyter-widgets/base",
            "_model_module_version": "1.2.0",
            "_model_name": "LayoutModel",
            "_view_count": null,
            "_view_module": "@jupyter-widgets/base",
            "_view_module_version": "1.2.0",
            "_view_name": "LayoutView",
            "align_content": null,
            "align_items": null,
            "align_self": null,
            "border": null,
            "bottom": null,
            "display": null,
            "flex": null,
            "flex_flow": null,
            "grid_area": null,
            "grid_auto_columns": null,
            "grid_auto_flow": null,
            "grid_auto_rows": null,
            "grid_column": null,
            "grid_gap": null,
            "grid_row": null,
            "grid_template_areas": null,
            "grid_template_columns": null,
            "grid_template_rows": null,
            "height": null,
            "justify_content": null,
            "justify_items": null,
            "left": null,
            "margin": null,
            "max_height": null,
            "max_width": null,
            "min_height": null,
            "min_width": null,
            "object_fit": null,
            "object_position": null,
            "order": null,
            "overflow": null,
            "overflow_x": null,
            "overflow_y": null,
            "padding": null,
            "right": null,
            "top": null,
            "visibility": null,
            "width": null
          }
        },
        "c0682ec4678d4dedaa304f4db611cfb5": {
          "model_module": "@jupyter-widgets/controls",
          "model_name": "ProgressStyleModel",
          "model_module_version": "1.5.0",
          "state": {
            "_model_module": "@jupyter-widgets/controls",
            "_model_module_version": "1.5.0",
            "_model_name": "ProgressStyleModel",
            "_view_count": null,
            "_view_module": "@jupyter-widgets/base",
            "_view_module_version": "1.2.0",
            "_view_name": "StyleView",
            "bar_color": null,
            "description_width": ""
          }
        },
        "f1b0b6d897814b15a7f4f072de18ac4a": {
          "model_module": "@jupyter-widgets/base",
          "model_name": "LayoutModel",
          "model_module_version": "1.2.0",
          "state": {
            "_model_module": "@jupyter-widgets/base",
            "_model_module_version": "1.2.0",
            "_model_name": "LayoutModel",
            "_view_count": null,
            "_view_module": "@jupyter-widgets/base",
            "_view_module_version": "1.2.0",
            "_view_name": "LayoutView",
            "align_content": null,
            "align_items": null,
            "align_self": null,
            "border": null,
            "bottom": null,
            "display": null,
            "flex": null,
            "flex_flow": null,
            "grid_area": null,
            "grid_auto_columns": null,
            "grid_auto_flow": null,
            "grid_auto_rows": null,
            "grid_column": null,
            "grid_gap": null,
            "grid_row": null,
            "grid_template_areas": null,
            "grid_template_columns": null,
            "grid_template_rows": null,
            "height": null,
            "justify_content": null,
            "justify_items": null,
            "left": null,
            "margin": null,
            "max_height": null,
            "max_width": null,
            "min_height": null,
            "min_width": null,
            "object_fit": null,
            "object_position": null,
            "order": null,
            "overflow": null,
            "overflow_x": null,
            "overflow_y": null,
            "padding": null,
            "right": null,
            "top": null,
            "visibility": null,
            "width": null
          }
        },
        "8df1c12b64b84109b55ed296da13c672": {
          "model_module": "@jupyter-widgets/controls",
          "model_name": "DescriptionStyleModel",
          "model_module_version": "1.5.0",
          "state": {
            "_model_module": "@jupyter-widgets/controls",
            "_model_module_version": "1.5.0",
            "_model_name": "DescriptionStyleModel",
            "_view_count": null,
            "_view_module": "@jupyter-widgets/base",
            "_view_module_version": "1.2.0",
            "_view_name": "StyleView",
            "description_width": ""
          }
        },
        "da6f1bb68b01407b86bffb1f74eea6dc": {
          "model_module": "@jupyter-widgets/controls",
          "model_name": "HBoxModel",
          "model_module_version": "1.5.0",
          "state": {
            "_dom_classes": [],
            "_model_module": "@jupyter-widgets/controls",
            "_model_module_version": "1.5.0",
            "_model_name": "HBoxModel",
            "_view_count": null,
            "_view_module": "@jupyter-widgets/controls",
            "_view_module_version": "1.5.0",
            "_view_name": "HBoxView",
            "box_style": "",
            "children": [
              "IPY_MODEL_04e48ef1c4ff48fc95fde24023769388",
              "IPY_MODEL_772dc783127b42f480ab97ef97eb56c2",
              "IPY_MODEL_f81234a072d44cde9780c13d2da49287"
            ],
            "layout": "IPY_MODEL_a4dce1789dcd420694102941495d9e0f"
          }
        },
        "04e48ef1c4ff48fc95fde24023769388": {
          "model_module": "@jupyter-widgets/controls",
          "model_name": "HTMLModel",
          "model_module_version": "1.5.0",
          "state": {
            "_dom_classes": [],
            "_model_module": "@jupyter-widgets/controls",
            "_model_module_version": "1.5.0",
            "_model_name": "HTMLModel",
            "_view_count": null,
            "_view_module": "@jupyter-widgets/controls",
            "_view_module_version": "1.5.0",
            "_view_name": "HTMLView",
            "description": "",
            "description_tooltip": null,
            "layout": "IPY_MODEL_c054a93dbf144a069b6c05cc024cb0cf",
            "placeholder": "​",
            "style": "IPY_MODEL_de128cbea1b34fbcb576d56e4569eb97",
            "value": "100%"
          }
        },
        "772dc783127b42f480ab97ef97eb56c2": {
          "model_module": "@jupyter-widgets/controls",
          "model_name": "FloatProgressModel",
          "model_module_version": "1.5.0",
          "state": {
            "_dom_classes": [],
            "_model_module": "@jupyter-widgets/controls",
            "_model_module_version": "1.5.0",
            "_model_name": "FloatProgressModel",
            "_view_count": null,
            "_view_module": "@jupyter-widgets/controls",
            "_view_module_version": "1.5.0",
            "_view_name": "ProgressView",
            "bar_style": "success",
            "description": "",
            "description_tooltip": null,
            "layout": "IPY_MODEL_edb83e34fd754d2cb92e9119f2a3e571",
            "max": 1500,
            "min": 0,
            "orientation": "horizontal",
            "style": "IPY_MODEL_1e8bcb3a17414386825e3d26c6446db0",
            "value": 1500
          }
        },
        "f81234a072d44cde9780c13d2da49287": {
          "model_module": "@jupyter-widgets/controls",
          "model_name": "HTMLModel",
          "model_module_version": "1.5.0",
          "state": {
            "_dom_classes": [],
            "_model_module": "@jupyter-widgets/controls",
            "_model_module_version": "1.5.0",
            "_model_name": "HTMLModel",
            "_view_count": null,
            "_view_module": "@jupyter-widgets/controls",
            "_view_module_version": "1.5.0",
            "_view_name": "HTMLView",
            "description": "",
            "description_tooltip": null,
            "layout": "IPY_MODEL_dc1e559b04e7401199a0a18ef0e6694b",
            "placeholder": "​",
            "style": "IPY_MODEL_167369cdc4e64e099ab10bb7a1f2ce42",
            "value": " 1500/1500 [00:00&lt;00:00, 5956.97it/s]"
          }
        },
        "a4dce1789dcd420694102941495d9e0f": {
          "model_module": "@jupyter-widgets/base",
          "model_name": "LayoutModel",
          "model_module_version": "1.2.0",
          "state": {
            "_model_module": "@jupyter-widgets/base",
            "_model_module_version": "1.2.0",
            "_model_name": "LayoutModel",
            "_view_count": null,
            "_view_module": "@jupyter-widgets/base",
            "_view_module_version": "1.2.0",
            "_view_name": "LayoutView",
            "align_content": null,
            "align_items": null,
            "align_self": null,
            "border": null,
            "bottom": null,
            "display": null,
            "flex": null,
            "flex_flow": null,
            "grid_area": null,
            "grid_auto_columns": null,
            "grid_auto_flow": null,
            "grid_auto_rows": null,
            "grid_column": null,
            "grid_gap": null,
            "grid_row": null,
            "grid_template_areas": null,
            "grid_template_columns": null,
            "grid_template_rows": null,
            "height": null,
            "justify_content": null,
            "justify_items": null,
            "left": null,
            "margin": null,
            "max_height": null,
            "max_width": null,
            "min_height": null,
            "min_width": null,
            "object_fit": null,
            "object_position": null,
            "order": null,
            "overflow": null,
            "overflow_x": null,
            "overflow_y": null,
            "padding": null,
            "right": null,
            "top": null,
            "visibility": null,
            "width": null
          }
        },
        "c054a93dbf144a069b6c05cc024cb0cf": {
          "model_module": "@jupyter-widgets/base",
          "model_name": "LayoutModel",
          "model_module_version": "1.2.0",
          "state": {
            "_model_module": "@jupyter-widgets/base",
            "_model_module_version": "1.2.0",
            "_model_name": "LayoutModel",
            "_view_count": null,
            "_view_module": "@jupyter-widgets/base",
            "_view_module_version": "1.2.0",
            "_view_name": "LayoutView",
            "align_content": null,
            "align_items": null,
            "align_self": null,
            "border": null,
            "bottom": null,
            "display": null,
            "flex": null,
            "flex_flow": null,
            "grid_area": null,
            "grid_auto_columns": null,
            "grid_auto_flow": null,
            "grid_auto_rows": null,
            "grid_column": null,
            "grid_gap": null,
            "grid_row": null,
            "grid_template_areas": null,
            "grid_template_columns": null,
            "grid_template_rows": null,
            "height": null,
            "justify_content": null,
            "justify_items": null,
            "left": null,
            "margin": null,
            "max_height": null,
            "max_width": null,
            "min_height": null,
            "min_width": null,
            "object_fit": null,
            "object_position": null,
            "order": null,
            "overflow": null,
            "overflow_x": null,
            "overflow_y": null,
            "padding": null,
            "right": null,
            "top": null,
            "visibility": null,
            "width": null
          }
        },
        "de128cbea1b34fbcb576d56e4569eb97": {
          "model_module": "@jupyter-widgets/controls",
          "model_name": "DescriptionStyleModel",
          "model_module_version": "1.5.0",
          "state": {
            "_model_module": "@jupyter-widgets/controls",
            "_model_module_version": "1.5.0",
            "_model_name": "DescriptionStyleModel",
            "_view_count": null,
            "_view_module": "@jupyter-widgets/base",
            "_view_module_version": "1.2.0",
            "_view_name": "StyleView",
            "description_width": ""
          }
        },
        "edb83e34fd754d2cb92e9119f2a3e571": {
          "model_module": "@jupyter-widgets/base",
          "model_name": "LayoutModel",
          "model_module_version": "1.2.0",
          "state": {
            "_model_module": "@jupyter-widgets/base",
            "_model_module_version": "1.2.0",
            "_model_name": "LayoutModel",
            "_view_count": null,
            "_view_module": "@jupyter-widgets/base",
            "_view_module_version": "1.2.0",
            "_view_name": "LayoutView",
            "align_content": null,
            "align_items": null,
            "align_self": null,
            "border": null,
            "bottom": null,
            "display": null,
            "flex": null,
            "flex_flow": null,
            "grid_area": null,
            "grid_auto_columns": null,
            "grid_auto_flow": null,
            "grid_auto_rows": null,
            "grid_column": null,
            "grid_gap": null,
            "grid_row": null,
            "grid_template_areas": null,
            "grid_template_columns": null,
            "grid_template_rows": null,
            "height": null,
            "justify_content": null,
            "justify_items": null,
            "left": null,
            "margin": null,
            "max_height": null,
            "max_width": null,
            "min_height": null,
            "min_width": null,
            "object_fit": null,
            "object_position": null,
            "order": null,
            "overflow": null,
            "overflow_x": null,
            "overflow_y": null,
            "padding": null,
            "right": null,
            "top": null,
            "visibility": null,
            "width": null
          }
        },
        "1e8bcb3a17414386825e3d26c6446db0": {
          "model_module": "@jupyter-widgets/controls",
          "model_name": "ProgressStyleModel",
          "model_module_version": "1.5.0",
          "state": {
            "_model_module": "@jupyter-widgets/controls",
            "_model_module_version": "1.5.0",
            "_model_name": "ProgressStyleModel",
            "_view_count": null,
            "_view_module": "@jupyter-widgets/base",
            "_view_module_version": "1.2.0",
            "_view_name": "StyleView",
            "bar_color": null,
            "description_width": ""
          }
        },
        "dc1e559b04e7401199a0a18ef0e6694b": {
          "model_module": "@jupyter-widgets/base",
          "model_name": "LayoutModel",
          "model_module_version": "1.2.0",
          "state": {
            "_model_module": "@jupyter-widgets/base",
            "_model_module_version": "1.2.0",
            "_model_name": "LayoutModel",
            "_view_count": null,
            "_view_module": "@jupyter-widgets/base",
            "_view_module_version": "1.2.0",
            "_view_name": "LayoutView",
            "align_content": null,
            "align_items": null,
            "align_self": null,
            "border": null,
            "bottom": null,
            "display": null,
            "flex": null,
            "flex_flow": null,
            "grid_area": null,
            "grid_auto_columns": null,
            "grid_auto_flow": null,
            "grid_auto_rows": null,
            "grid_column": null,
            "grid_gap": null,
            "grid_row": null,
            "grid_template_areas": null,
            "grid_template_columns": null,
            "grid_template_rows": null,
            "height": null,
            "justify_content": null,
            "justify_items": null,
            "left": null,
            "margin": null,
            "max_height": null,
            "max_width": null,
            "min_height": null,
            "min_width": null,
            "object_fit": null,
            "object_position": null,
            "order": null,
            "overflow": null,
            "overflow_x": null,
            "overflow_y": null,
            "padding": null,
            "right": null,
            "top": null,
            "visibility": null,
            "width": null
          }
        },
        "167369cdc4e64e099ab10bb7a1f2ce42": {
          "model_module": "@jupyter-widgets/controls",
          "model_name": "DescriptionStyleModel",
          "model_module_version": "1.5.0",
          "state": {
            "_model_module": "@jupyter-widgets/controls",
            "_model_module_version": "1.5.0",
            "_model_name": "DescriptionStyleModel",
            "_view_count": null,
            "_view_module": "@jupyter-widgets/base",
            "_view_module_version": "1.2.0",
            "_view_name": "StyleView",
            "description_width": ""
          }
        }
      }
    }
  },
  "nbformat": 4,
  "nbformat_minor": 0
}